{
 "cells": [
  {
   "cell_type": "code",
   "execution_count": 1,
   "metadata": {},
   "outputs": [
    {
     "name": "stdout",
     "output_type": "stream",
     "text": [
      "enter radius of a circle: 4\n",
      "the arae of the circle for the given radius is:  50.24\n"
     ]
    }
   ],
   "source": [
    "### 1. Calculate Area of a Circle \n",
    "p = 3.14\n",
    "r = float(input(\"enter radius of a circle: \"))\n",
    "A = p*(r**2)\n",
    "print(\"the arae of the circle for the given radius is: \", A)"
   ]
  },
  {
   "cell_type": "code",
   "execution_count": 2,
   "metadata": {},
   "outputs": [
    {
     "name": "stdout",
     "output_type": "stream",
     "text": [
      "enter a number to check: 5\n",
      "the number is Positive\n"
     ]
    }
   ],
   "source": [
    "### 2 Check Number either positive, negative or zero\n",
    "check = int(input(\"enter a number to check: \"))\n",
    "if check == \"0\":\n",
    "  print(\"given number is zero\")\n",
    "elif check > 0:  \n",
    "  print(\"the number is Positive\")\n",
    "else:\n",
    "    print(\"the number is negative\")\n",
    "   "
   ]
  },
  {
   "cell_type": "code",
   "execution_count": 3,
   "metadata": {},
   "outputs": [
    {
     "name": "stdout",
     "output_type": "stream",
     "text": [
      "Enter numerator: 5\n",
      "Enter denominator: 3\n",
      "the 5 is not completely divisible by 3\n"
     ]
    }
   ],
   "source": [
    "### 3. Divisibility Check of two numbers \n",
    "n = int(input(\"Enter numerator: \"))\n",
    "d = int(input(\"Enter denominator: \"))\n",
    "if n%d == 0:\n",
    "    print(\"the\", n , \"is completely divisible by\" ,d,)\n",
    "else:\n",
    "    print(\"the\" , n , \"is not completely divisible by\" ,d,)"
   ]
  },
  {
   "cell_type": "code",
   "execution_count": 4,
   "metadata": {},
   "outputs": [
    {
     "name": "stdout",
     "output_type": "stream",
     "text": [
      "enter radius of a sphere: 6\n",
      "the volume of the sphere is:  904.3199999999999\n"
     ]
    }
   ],
   "source": [
    "### 4. Calculate Volume of a sphere\n",
    "r = float(input(\"enter radius of a sphere: \"))\n",
    "pi = 3.14\n",
    "v = 4/3*pi*r**3\n",
    "print(\"the volume of the sphere is: \" ,v)"
   ]
  },
  {
   "cell_type": "code",
   "execution_count": 5,
   "metadata": {},
   "outputs": [
    {
     "name": "stdout",
     "output_type": "stream",
     "text": [
      "enter a number: 3\n",
      "the number is odd\n"
     ]
    }
   ],
   "source": [
    "### 5.Check if number is Even or Odd \n",
    "n = int(input(\"enter a number: \"))\n",
    "if n%2 == 0:\n",
    "    print(\"the number is even\")\n",
    "else:\n",
    "    print(\"the number is odd\")"
   ]
  },
  {
   "cell_type": "code",
   "execution_count": 6,
   "metadata": {
    "scrolled": true
   },
   "outputs": [
    {
     "name": "stdout",
     "output_type": "stream",
     "text": [
      "enter a string: gf\n",
      "how many times: 6\n",
      "  gfgfgfgfgfgf  \n"
     ]
    }
   ],
   "source": [
    "### 6.Copy string n times \n",
    "n = str(input(\"enter a string: \"))\n",
    "h = int(input(\"how many times: \"))\n",
    "print(\" \" , n*h ,\" \")"
   ]
  },
  {
   "cell_type": "code",
   "execution_count": 7,
   "metadata": {},
   "outputs": [
    {
     "name": "stdout",
     "output_type": "stream",
     "text": [
      "enter a base: 5\n",
      "eneter a height: 4\n",
      "the area of the triangle is 10.0\n"
     ]
    }
   ],
   "source": [
    "### 7. Triangle area \n",
    "b = int(input(\"enter a base: \"))\n",
    "h = int(input(\"eneter a height: \"))\n",
    "g = (b*h)/2\n",
    "print(\"the area of the triangle is\",g)\n"
   ]
  },
  {
   "cell_type": "code",
   "execution_count": 8,
   "metadata": {},
   "outputs": [
    {
     "name": "stdout",
     "output_type": "stream",
     "text": [
      "please enter amount: 100\n",
      "eneter rate of interest: 0.5\n",
      "eneter numbers of years for investment: 3\n",
      "337.5\n"
     ]
    }
   ],
   "source": [
    "###  8.Calculate Interest \n",
    "p = int(input(\"please enter amount: \"))\n",
    "r = float(input(\"eneter rate of interest: \"))\n",
    "t = int(input(\"eneter numbers of years for investment: \"))\n",
    "calc = (p)*(1+r)**t\n",
    "print(calc)"
   ]
  },
  {
   "cell_type": "code",
   "execution_count": 9,
   "metadata": {},
   "outputs": [
    {
     "name": "stdout",
     "output_type": "stream",
     "text": [
      "enter the value of co-rdinate of x1:3\n",
      "enter the value of co-rdinate of y1:4\n",
      "enter the value of co-rdinate of x2:2\n",
      "enter the value of co-rdinate of y2:5\n",
      "the euclidean distance b/w the co-ordinates is:  1.4142135623730951\n"
     ]
    }
   ],
   "source": [
    "### 9.Euclidean distance \n",
    "import math\n",
    "x1 = int(input(\"enter the value of co-rdinate of x1:\"))\n",
    "y1 = int(input(\"enter the value of co-rdinate of y1:\"))\n",
    "x2 = int(input(\"enter the value of co-rdinate of x2:\"))\n",
    "y2 = int(input(\"enter the value of co-rdinate of y2:\"))\n",
    "distance = (x2-x1)**2 + (y2-y1)**2\n",
    "print(\"the euclidean distance b/w the co-ordinates is: \", math.sqrt(distance))"
   ]
  },
  {
   "cell_type": "code",
   "execution_count": 10,
   "metadata": {},
   "outputs": [
    {
     "name": "stdout",
     "output_type": "stream",
     "text": [
      "enter an alphabet: d\n",
      "you don,t enterd d  vowel\n"
     ]
    }
   ],
   "source": [
    "### 10.Vowel Tester \n",
    "vow = str(input(\"enter an alphabet: \"))\n",
    "if (vow == 'a' or vow == 'e' or vow == 'i' or vow == 'o' or vow == 'u'):\n",
    "    print(\"you enterd\" ,vow , \"vowel\")\n",
    "else:\n",
    "    print(\"you don,t enterd\" , vow , \" vowel\")"
   ]
  },
  {
   "cell_type": "code",
   "execution_count": 11,
   "metadata": {},
   "outputs": [
    {
     "name": "stdout",
     "output_type": "stream",
     "text": [
      "enter a height in feet: 5\n",
      "there are: 152.4 cm in 5.0 ft\n"
     ]
    }
   ],
   "source": [
    "### 11.feet to centimeter converter:\n",
    "height = float(input(\"enter a height in feet: \"))\n",
    "cm = height*30.48\n",
    "print(\"there are:\",cm, \"cm in\", height ,\"ft\")\n"
   ]
  },
  {
   "cell_type": "code",
   "execution_count": 12,
   "metadata": {},
   "outputs": [
    {
     "name": "stdout",
     "output_type": "stream",
     "text": [
      "enter string:wtw\n",
      "the given txt is palindrome\n"
     ]
    }
   ],
   "source": [
    "a = input(\"enter string:\")\n",
    "if a == a[::-1]:\n",
    "    print(\"the given txt is palindrome\")\n",
    "else:\n",
    "    print(\"the given text is not palindrome\")"
   ]
  },
  {
   "cell_type": "code",
   "execution_count": 13,
   "metadata": {},
   "outputs": [
    {
     "name": "stdout",
     "output_type": "stream",
     "text": [
      "enter a height in cm: 45\n",
      "enter a weight in kg23\n",
      "113.58024691358024\n"
     ]
    }
   ],
   "source": [
    "###  12.BMI Calculator \n",
    "height = int(input(\"enter a height in cm: \"))\n",
    "wt = int(input(\"enter a weight in kg\"))\n",
    "height = height*(0.01)\n",
    "bmi = wt/height**2\n",
    "print(bmi)"
   ]
  },
  {
   "cell_type": "code",
   "execution_count": 14,
   "metadata": {},
   "outputs": [
    {
     "name": "stdout",
     "output_type": "stream",
     "text": [
      "enter an integer34\n",
      "595\n"
     ]
    }
   ],
   "source": [
    "### 13.Sum of n Positive Integers \n",
    "integer = int(input(\"enter an integer\"))\n",
    "summ = 0\n",
    "for i in range(1,integer+1):\n",
    "    summ = summ+i\n",
    "print(summ)"
   ]
  },
  {
   "cell_type": "code",
   "execution_count": 15,
   "metadata": {},
   "outputs": [
    {
     "name": "stdout",
     "output_type": "stream",
     "text": [
      "enter a decimal number45\n",
      "0b101101\n"
     ]
    }
   ],
   "source": [
    "###  14. Decimal to Binary Converter \n",
    "decval = int(input(\"enter a decimal number\"))\n",
    "bin_val = bin(decval)\n",
    "print(bin_val)"
   ]
  },
  {
   "cell_type": "code",
   "execution_count": 16,
   "metadata": {},
   "outputs": [
    {
     "name": "stdout",
     "output_type": "stream",
     "text": [
      "enter a number010010\n",
      "18\n"
     ]
    }
   ],
   "source": [
    "### 15. binary to decimal converter\n",
    "bin_val = input(\"enter a number\")\n",
    "dec_val = int(bin_val, 2)\n",
    "print(dec_val)"
   ]
  },
  {
   "cell_type": "code",
   "execution_count": 18,
   "metadata": {
    "scrolled": true
   },
   "outputs": [
    {
     "ename": "SyntaxError",
     "evalue": "invalid syntax (<ipython-input-18-eae32f268dfc>, line 5)",
     "output_type": "error",
     "traceback": [
      "\u001b[1;36m  File \u001b[1;32m\"<ipython-input-18-eae32f268dfc>\"\u001b[1;36m, line \u001b[1;32m5\u001b[0m\n\u001b[1;33m    print(sum(list1))\u001b[0m\n\u001b[1;37m        ^\u001b[0m\n\u001b[1;31mSyntaxError\u001b[0m\u001b[1;31m:\u001b[0m invalid syntax\n"
     ]
    }
   ],
   "source": [
    "n = str(input(\"Enter the number\\n\"))\n",
    "list1 = []\n",
    "for each_number in n:\n",
    "     list1.append(int(each_number)\n",
    "print(sum(list1))"
   ]
  },
  {
   "cell_type": "code",
   "execution_count": 19,
   "metadata": {},
   "outputs": [
    {
     "name": "stdout",
     "output_type": "stream",
     "text": [
      "Please Enter your Own String : python 3.4\n",
      "\n",
      "Total Number of Alphabets in this String :   6\n",
      "Total Number of Digits in this String :   2\n",
      "Total Number of Special Characters in this String :   2\n"
     ]
    }
   ],
   "source": [
    "string = input(\"Please Enter your Own String : \")\n",
    "alphabets = digits = special = 0\n",
    "\n",
    "for i in range(len(string)):\n",
    "    if(string[i].isalpha()):\n",
    "        alphabets = alphabets + 1\n",
    "    elif(string[i].isdigit()):\n",
    "        digits = digits + 1\n",
    "    else:\n",
    "        special = special + 1\n",
    "        \n",
    "print(\"\\nTotal Number of Alphabets in this String :  \", alphabets)\n",
    "print(\"Total Number of Digits in this String :  \", digits)\n",
    "print(\"Total Number of Special Characters in this String :  \", special)\n",
    "    \n"
   ]
  },
  {
   "cell_type": "code",
   "execution_count": 20,
   "metadata": {},
   "outputs": [
    {
     "name": "stdout",
     "output_type": "stream",
     "text": [
      "1 \n",
      "2 2 \n",
      "3 3 3 \n",
      "4 4 4 4 \n",
      "5 5 5 5 5 \n",
      "6 6 6 6 6 6 \n",
      "7 7 7 7 7 7 7 \n",
      "8 8 8 8 8 8 8 8 \n",
      "9 9 9 9 9 9 9 9 9 \n"
     ]
    }
   ],
   "source": [
    "for i in range(1,10):\n",
    "    for j in range(1,i+1):\n",
    "        print(i,end=\" \")\n",
    "    print()\n",
    "\n",
    "\n",
    "    "
   ]
  },
  {
   "cell_type": "code",
   "execution_count": 21,
   "metadata": {},
   "outputs": [
    {
     "name": "stdout",
     "output_type": "stream",
     "text": [
      "1 \n",
      "1 2 \n",
      "1 2 3 \n",
      "1 2 3 4 \n",
      "1 2 3 4 5 \n",
      "1 2 3 4 \n",
      "1 2 3 \n",
      "1 2 \n",
      "1 \n"
     ]
    }
   ],
   "source": [
    "n = 5 \n",
    "for i in range(1,n+1):\n",
    "    for j in range(1,i+1):\n",
    "        print(j,end=\" \")\n",
    "    print()\n",
    "for a in range(4,0,-1):\n",
    "    for b in range(1,a+1):\n",
    "        print(b,end=\" \")\n",
    "    print()\n",
    "    "
   ]
  },
  {
   "cell_type": "code",
   "execution_count": 22,
   "metadata": {},
   "outputs": [
    {
     "name": "stdout",
     "output_type": "stream",
     "text": [
      "* \n",
      "* * \n",
      "* * * \n",
      "* * * * \n",
      "* * * * * \n",
      "* * * * \n",
      "* * * \n",
      "* * \n",
      "* \n"
     ]
    }
   ],
   "source": [
    "k = \"*\"\n",
    "l = \"*\"\n",
    "for i in range(1,n+1):\n",
    "    for j in range(1,i+1):\n",
    "        print(l,end=\" \")\n",
    "    print()\n",
    "for a in range(4,0,-1):\n",
    "    for b in range(1,a+1):\n",
    "        print(l,end=\" \")\n",
    "    print()\n",
    "    "
   ]
  },
  {
   "cell_type": "code",
   "execution_count": null,
   "metadata": {},
   "outputs": [],
   "source": []
  }
 ],
 "metadata": {
  "kernelspec": {
   "display_name": "Python 3",
   "language": "python",
   "name": "python3"
  },
  "language_info": {
   "codemirror_mode": {
    "name": "ipython",
    "version": 3
   },
   "file_extension": ".py",
   "mimetype": "text/x-python",
   "name": "python",
   "nbconvert_exporter": "python",
   "pygments_lexer": "ipython3",
   "version": "3.7.3"
  }
 },
 "nbformat": 4,
 "nbformat_minor": 2
}

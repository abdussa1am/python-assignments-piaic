{
 "cells": [
  {
   "cell_type": "code",
   "execution_count": 9,
   "metadata": {},
   "outputs": [
    {
     "name": "stdout",
     "output_type": "stream",
     "text": [
      "please enter your name: Abdus Salam\n",
      "enter your roll no: 56\n",
      "please enter your english marks: 76\n",
      "plestrase enter your math marks: 87\n",
      "please enter your urdu marks: 89\n",
      "please enter your phy marks: 87\n",
      "please enter your chem marks: 67\n",
      "you have achieved A grade\n",
      "your result is:  81.2 %\n",
      "NAME,ROLL NO,English,Urdu,Physics ,Math,Chemistry,GRADE,Remarks\n",
      "Abdus Salam,56,76,89,87,87,67,81.2,%,passed\n",
      "\n"
     ]
    }
   ],
   "source": [
    "import csv\n",
    "name = str(input(\"please enter your name: \"))\n",
    "roll_no = int(input(\"enter your roll no: \"))\n",
    "eng = int(input(\"please enter your english marks: \"))\n",
    "math = int(input(\"plestrase enter your math marks: \"))\n",
    "urdu = int(input(\"please enter your urdu marks: \"))\n",
    "phy = int(input(\"please enter your phy marks: \"))\n",
    "chem = int(input(\"please enter your chem marks: \"))\n",
    "total = 500\n",
    "score = eng+math+urdu+phy+chem\n",
    "result = (score/total)*100\n",
    "status = \"passed\"\n",
    "if result < 33.3:\n",
    "    print(\"you are fail\")\n",
    "    status = \"failed\"\n",
    "elif result < 50:\n",
    "    print(\"you have achieved E grade\")\n",
    "elif result < 60:\n",
    "    print(\"you have achieved D grade\")\n",
    "elif result < 70:\n",
    "    print(\"you have achieved C grade\")\n",
    "elif result < 80:\n",
    "    print(\"you have achieved B grade\")\n",
    "elif result < 90:\n",
    "    print(\"you have achieved A grade\")\n",
    "elif result < 100:\n",
    "    print(\"you have achieved A+ grade\")\n",
    "print(\"your result is: \",result,\"%\")\n",
    "import csv \n",
    "with open(\"marksheet.csv\",\"w\",newline=\"\") as f:\n",
    "    data_handler = csv.writer(f,delimiter=\",\")\n",
    "    data_handler.writerow([\"NAME\", \"ROLL NO\" ,\"English\" , \"Urdu\", \"Physics \",\"Math\",\"Chemistry\",\"GRADE\",\"Remarks\"])\n",
    "    data_handler.writerow([ name,    roll_no,   eng   ,   urdu,  phy ,      math ,     chem ,   result,\"%\",status])\n",
    "with open(\"marksheet.csv\",\"r\") as f:\n",
    "     print(f.read())\n",
    "    \n",
    "    "
   ]
  },
  {
   "cell_type": "markdown",
   "metadata": {},
   "source": []
  },
  {
   "cell_type": "code",
   "execution_count": null,
   "metadata": {},
   "outputs": [],
   "source": []
  }
 ],
 "metadata": {
  "kernelspec": {
   "display_name": "Python 3",
   "language": "python",
   "name": "python3"
  },
  "language_info": {
   "codemirror_mode": {
    "name": "ipython",
    "version": 3
   },
   "file_extension": ".py",
   "mimetype": "text/x-python",
   "name": "python",
   "nbconvert_exporter": "python",
   "pygments_lexer": "ipython3",
   "version": "3.7.3"
  }
 },
 "nbformat": 4,
 "nbformat_minor": 2
}

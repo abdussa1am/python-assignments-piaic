{
 "cells": [
  {
   "cell_type": "code",
   "execution_count": 5,
   "metadata": {},
   "outputs": [
    {
     "name": "stdout",
     "output_type": "stream",
     "text": [
      "enter the name of the file: sample_text_file.txt\n",
      "18444\n",
      "\n",
      " Words: 38128 \n",
      " Space: 54321 \n",
      " lines: 4822 \n",
      " non space character: 82864 \n",
      " paragraph: 18444 \n"
     ]
    }
   ],
   "source": [
    "filename = input(\"enter the name of the file: \")\n",
    "with open(filename,encoding=\"utf8\") as f:\n",
    "     contents = f.read()\n",
    "words = contents.split()\n",
    "#print(words)\n",
    "no_words = len(words)\n",
    "#print(no_words)\n",
    "space = contents.split(\" \")\n",
    "no_space = len(space)\n",
    "#print(no_space)\n",
    "line = contents.split(\"\\n\")\n",
    "no_line = len(line)\n",
    "#print(no_line)\n",
    "para = contents.split(\"  \")\n",
    "no_para = len(para)\n",
    "print(no_para)\n",
    "character = contents.replace(\" \",\"\")\n",
    "non_space_character = len(character)\n",
    "#print(non_space_character)\n",
    "print(\"\\n Words: {} \\n Space: {} \\n lines: {} \\n non space character: {} \\n paragraph: {} \".format(no_words,no_space,no_line,non_space_character,no_para))\n",
    "\n",
    "    "
   ]
  },
  {
   "cell_type": "code",
   "execution_count": 50,
   "metadata": {},
   "outputs": [
    {
     "name": "stdout",
     "output_type": "stream",
     "text": [
      "please enter filename: example_html_file.html\n",
      "----------------TAGS IN HTML FILE ARE------------\n",
      "\n",
      "['html', 'head', 'title', 'style', 'body', 'h1', 'p', 'p', 'p', 'a'] \n",
      "\n",
      "dict_items([('html', 1), ('head', 1), ('title', 1), ('style', 1), ('body', 1), ('h1', 1), ('p', 3), ('a', 1)])\n"
     ]
    }
   ],
   "source": [
    "from collections import defaultdict\n",
    "from bs4 import BeautifulSoup\n",
    "try:\n",
    "    filename = input(\"please enter filename: \")\n",
    "    page = open(filename).read()\n",
    "    html = BeautifulSoup(page)\n",
    "    tag_name = []\n",
    "    d = defaultdict(int)\n",
    "    for tag in html.find_all():\n",
    "        tag_name.append(tag.name)\n",
    "    print(\"----------------TAGS IN HTML FILE ARE------------\\n\")\n",
    "    print(tag_name,\"\\n\")\n",
    "    for k in tag_name:\n",
    "        d[k] +=1\n",
    "    print(d.items())\n",
    "except FileNotFoundError:\n",
    "    print(\"no file found\")"
   ]
  },
  {
   "cell_type": "code",
   "execution_count": null,
   "metadata": {},
   "outputs": [],
   "source": []
  }
 ],
 "metadata": {
  "kernelspec": {
   "display_name": "Python 3",
   "language": "python",
   "name": "python3"
  },
  "language_info": {
   "codemirror_mode": {
    "name": "ipython",
    "version": 3
   },
   "file_extension": ".py",
   "mimetype": "text/x-python",
   "name": "python",
   "nbconvert_exporter": "python",
   "pygments_lexer": "ipython3",
   "version": "3.7.3"
  }
 },
 "nbformat": 4,
 "nbformat_minor": 2
}
